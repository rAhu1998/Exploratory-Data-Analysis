{
 "cells": [
  {
   "cell_type": "code",
   "execution_count": 46,
   "metadata": {},
   "outputs": [],
   "source": [
    "import numpy as np\n",
    "import matplotlib.pyplot as plt\n",
    "import pandas as pd \n",
    "import seaborn as sns\n",
    "%matplotlib inline"
   ]
  },
  {
   "cell_type": "code",
   "execution_count": 78,
   "metadata": {},
   "outputs": [
    {
     "data": {
      "text/html": [
       "<div>\n",
       "<style scoped>\n",
       "    .dataframe tbody tr th:only-of-type {\n",
       "        vertical-align: middle;\n",
       "    }\n",
       "\n",
       "    .dataframe tbody tr th {\n",
       "        vertical-align: top;\n",
       "    }\n",
       "\n",
       "    .dataframe thead th {\n",
       "        text-align: right;\n",
       "    }\n",
       "</style>\n",
       "<table border=\"1\" class=\"dataframe\">\n",
       "  <thead>\n",
       "    <tr style=\"text-align: right;\">\n",
       "      <th></th>\n",
       "      <th>R&amp;D Spend</th>\n",
       "      <th>Administration</th>\n",
       "      <th>Marketing Spend</th>\n",
       "      <th>State</th>\n",
       "      <th>Profit</th>\n",
       "    </tr>\n",
       "  </thead>\n",
       "  <tbody>\n",
       "    <tr>\n",
       "      <th>0</th>\n",
       "      <td>165349.20</td>\n",
       "      <td>136897.800</td>\n",
       "      <td>471784.1000</td>\n",
       "      <td>New York</td>\n",
       "      <td>192261.83000</td>\n",
       "    </tr>\n",
       "    <tr>\n",
       "      <th>1</th>\n",
       "      <td>162597.70</td>\n",
       "      <td>151377.590</td>\n",
       "      <td>443898.5300</td>\n",
       "      <td>California</td>\n",
       "      <td>191792.06000</td>\n",
       "    </tr>\n",
       "    <tr>\n",
       "      <th>2</th>\n",
       "      <td>153441.51</td>\n",
       "      <td>101145.550</td>\n",
       "      <td>407934.5400</td>\n",
       "      <td>Florida</td>\n",
       "      <td>191050.39000</td>\n",
       "    </tr>\n",
       "    <tr>\n",
       "      <th>3</th>\n",
       "      <td>144372.41</td>\n",
       "      <td>118671.850</td>\n",
       "      <td>383199.6200</td>\n",
       "      <td>New York</td>\n",
       "      <td>182901.99000</td>\n",
       "    </tr>\n",
       "    <tr>\n",
       "      <th>4</th>\n",
       "      <td>142107.34</td>\n",
       "      <td>91391.770</td>\n",
       "      <td>366168.4200</td>\n",
       "      <td>Florida</td>\n",
       "      <td>166187.94000</td>\n",
       "    </tr>\n",
       "    <tr>\n",
       "      <th>...</th>\n",
       "      <td>...</td>\n",
       "      <td>...</td>\n",
       "      <td>...</td>\n",
       "      <td>...</td>\n",
       "      <td>...</td>\n",
       "    </tr>\n",
       "    <tr>\n",
       "      <th>995</th>\n",
       "      <td>54135.00</td>\n",
       "      <td>118451.999</td>\n",
       "      <td>173232.6695</td>\n",
       "      <td>California</td>\n",
       "      <td>95279.96251</td>\n",
       "    </tr>\n",
       "    <tr>\n",
       "      <th>996</th>\n",
       "      <td>134970.00</td>\n",
       "      <td>130390.080</td>\n",
       "      <td>329204.0228</td>\n",
       "      <td>California</td>\n",
       "      <td>164336.60550</td>\n",
       "    </tr>\n",
       "    <tr>\n",
       "      <th>997</th>\n",
       "      <td>100275.47</td>\n",
       "      <td>241926.310</td>\n",
       "      <td>227142.8200</td>\n",
       "      <td>California</td>\n",
       "      <td>413956.48000</td>\n",
       "    </tr>\n",
       "    <tr>\n",
       "      <th>998</th>\n",
       "      <td>128456.23</td>\n",
       "      <td>321652.140</td>\n",
       "      <td>281692.3200</td>\n",
       "      <td>California</td>\n",
       "      <td>333962.19000</td>\n",
       "    </tr>\n",
       "    <tr>\n",
       "      <th>999</th>\n",
       "      <td>161181.72</td>\n",
       "      <td>270939.860</td>\n",
       "      <td>295442.1700</td>\n",
       "      <td>New York</td>\n",
       "      <td>476485.43000</td>\n",
       "    </tr>\n",
       "  </tbody>\n",
       "</table>\n",
       "<p>1000 rows × 5 columns</p>\n",
       "</div>"
      ],
      "text/plain": [
       "     R&D Spend  Administration  Marketing Spend       State        Profit\n",
       "0    165349.20      136897.800      471784.1000    New York  192261.83000\n",
       "1    162597.70      151377.590      443898.5300  California  191792.06000\n",
       "2    153441.51      101145.550      407934.5400     Florida  191050.39000\n",
       "3    144372.41      118671.850      383199.6200    New York  182901.99000\n",
       "4    142107.34       91391.770      366168.4200     Florida  166187.94000\n",
       "..         ...             ...              ...         ...           ...\n",
       "995   54135.00      118451.999      173232.6695  California   95279.96251\n",
       "996  134970.00      130390.080      329204.0228  California  164336.60550\n",
       "997  100275.47      241926.310      227142.8200  California  413956.48000\n",
       "998  128456.23      321652.140      281692.3200  California  333962.19000\n",
       "999  161181.72      270939.860      295442.1700    New York  476485.43000\n",
       "\n",
       "[1000 rows x 5 columns]"
      ]
     },
     "execution_count": 78,
     "metadata": {},
     "output_type": "execute_result"
    }
   ],
   "source": [
    "df = pd.read_csv('1000_Companies.csv')\n",
    "df"
   ]
  },
  {
   "cell_type": "code",
   "execution_count": 79,
   "metadata": {},
   "outputs": [],
   "source": [
    "X = df.iloc[:,:-1].values\n",
    "y = df.iloc[:,4].values"
   ]
  },
  {
   "cell_type": "code",
   "execution_count": 80,
   "metadata": {},
   "outputs": [
    {
     "data": {
      "text/plain": [
       "<AxesSubplot:>"
      ]
     },
     "execution_count": 80,
     "metadata": {},
     "output_type": "execute_result"
    },
    {
     "data": {
      "image/png": "[encoded data removed]",
      "text/plain": [
       "<Figure size 432x288 with 2 Axes>"
      ]
     },
     "metadata": {
      "needs_background": "light"
     },
     "output_type": "display_data"
    }
   ],
   "source": [
    "sns.heatmap(df.corr(), annot = True)\n",
    "# greater than 0.7 higly correlated \n",
    "# greater than 0.5 and less than 0.7 moderately correlated\n",
    "# greater than 0.3 and less than 0.5 low correlation \n",
    "# rest if any or linear correlation"
   ]
  },
  {
   "cell_type": "code",
   "execution_count": 81,
   "metadata": {},
   "outputs": [],
   "source": [
    "from sklearn.preprocessing import LabelEncoder , OneHotEncoder\n",
    "from sklearn.compose import ColumnTransformer\n",
    "labelencoder = LabelEncoder()\n",
    "X[:,3] = labelencoder.fit_transform(X[:,3])\n",
    "# print(X)\n",
    "ct = ColumnTransformer([(\"State\", OneHotEncoder(), [3])], remainder = 'passthrough')\n",
    "# onehotencoder = OneHotEncoder(categorical_features = [3])\n",
    "X = ct.fit_transform(X)\n",
    "# print(X)"
   ]
  },
  {
   "cell_type": "code",
   "execution_count": 82,
   "metadata": {},
   "outputs": [
    {
     "name": "stdout",
     "output_type": "stream",
     "text": [
      "[[0.0 0.0 1.0 165349.2 136897.8 471784.1]\n",
      " [1.0 0.0 0.0 162597.7 151377.59 443898.53]\n",
      " [0.0 1.0 0.0 153441.51 101145.55 407934.54]\n",
      " ...\n",
      " [1.0 0.0 0.0 100275.47 241926.31 227142.82]\n",
      " [1.0 0.0 0.0 128456.23 321652.14 281692.32]\n",
      " [0.0 0.0 1.0 161181.72 270939.86 295442.17]]\n",
      "[[0.0 1.0 165349.2 136897.8 471784.1]\n",
      " [0.0 0.0 162597.7 151377.59 443898.53]\n",
      " [1.0 0.0 153441.51 101145.55 407934.54]\n",
      " ...\n",
      " [0.0 0.0 100275.47 241926.31 227142.82]\n",
      " [0.0 0.0 128456.23 321652.14 281692.32]\n",
      " [0.0 1.0 161181.72 270939.86 295442.17]]\n"
     ]
    }
   ],
   "source": [
    "print(X)\n",
    "#Avoiding the Dummy Variable Trap\n",
    "X = X[:,1:]\n",
    "print(X)"
   ]
  },
  {
   "cell_type": "code",
   "execution_count": 83,
   "metadata": {},
   "outputs": [],
   "source": [
    "#splitting the data into train test split\n",
    "from sklearn.model_selection import train_test_split\n",
    "X_train, X_test, y_train, y_test = train_test_split(X,y,test_size = 0.2, random_state = 0)"
   ]
  },
  {
   "cell_type": "code",
   "execution_count": 84,
   "metadata": {},
   "outputs": [
    {
     "data": {
      "text/plain": [
       "LinearRegression()"
      ]
     },
     "execution_count": 84,
     "metadata": {},
     "output_type": "execute_result"
    }
   ],
   "source": [
    "from sklearn.linear_model import LinearRegression\n",
    "regressor = LinearRegression()\n",
    "regressor.fit(X_train,y_train)"
   ]
  },
  {
   "cell_type": "code",
   "execution_count": 85,
   "metadata": {},
   "outputs": [
    {
     "name": "stdout",
     "output_type": "stream",
     "text": [
      "[ 89790.61532915  88427.0718736   94894.67836971 175680.86725612\n",
      "  83411.73042088 110571.90200074 132145.22936441  91473.37719686\n",
      " 164597.05380607  53222.82667399  66950.19050988 150566.43987005\n",
      " 126915.20858596  59337.85971049 177513.91053063  75316.2814305\n",
      " 118248.14406603 164574.40699903 170937.2898107  182069.11645086\n",
      " 118845.03252688  85669.95112228 180992.59396145  84145.08220144\n",
      " 105005.83769214 101233.56772746  53831.07669089  56881.41475223\n",
      "  68896.39346904 210040.00765885 120778.72270894 111724.87157654\n",
      " 101487.90541517 137959.02649624  63969.95996742 108857.91214126\n",
      " 186014.72531989 171442.64130748 174644.26529206 117671.49128195\n",
      "  96731.37857433 165452.2577941  107724.34331255  50194.54176912\n",
      " 116513.89532179  58632.48986819 158416.46827611  78541.48521609\n",
      " 159727.66671744 131137.87699644 184880.70924518 174609.08266881\n",
      "  93745.66352058  78341.13383417 180745.90439081  84461.61490551\n",
      " 142900.90602903 170618.44098398  84365.09530838 105307.3716218\n",
      " 141660.07290787  52527.3434044  141842.96264161 139176.27973195\n",
      "  98294.52669666 113586.86790969 126754.21895489 152135.51985562\n",
      "  58864.51658954 174285.57361131 124624.04380784 169065.77658979\n",
      "  91279.33198209 156170.37268963  84307.26579365  77877.75223096\n",
      " 120414.02421346  93380.44273241 139020.62514121 143604.67103573\n",
      " 171148.30815369 140082.97050132 106369.71689747 155641.43851388\n",
      " 140030.10330037 110172.87893525  69672.98677563  88148.52068041\n",
      " 140133.59925093 148479.09537888 157916.63505258  58532.9486314\n",
      "  93707.38422389 112646.37475705  56556.18943659 107414.89996181\n",
      " 147352.80227753 152144.10104035 167808.11701785 118750.25230713\n",
      " 120763.27666701 139029.95295663 157527.9093412  121962.0621496\n",
      "  87091.32399736 104792.91384333  95335.22679185 178389.52287437\n",
      " 181942.63776383 109831.34945506 165254.03344097 167806.06491903\n",
      " 158002.44642544 174782.86900957 170196.771027    52302.1816161\n",
      " 176938.11595791 104751.83583865  82710.31528805 138890.52767844\n",
      " 144274.74675426 161679.01836441 169662.05445896 120450.9231013\n",
      " 158880.70799547 110213.73252824 169674.51532367  60760.6130084\n",
      " 159036.99629069 158169.44286049 174511.70494476 156294.79927785\n",
      " 103714.37583211  85635.96237573 141603.54878758 165917.69156981\n",
      " 121182.03641977 170751.87883894 100505.77549411  82097.51033127\n",
      " 178643.18879844 101790.48384578  70507.40958621  90250.04230088\n",
      "  61247.49962678  68912.17534519  72775.81613475 176914.08873126\n",
      "  89704.69244931 129209.43730015  92672.90938382  88133.59175043\n",
      " 172836.3302162   60893.62070013 169015.89446011 166450.24453205\n",
      " 165425.54476416 102170.5169499  181594.57928217  73702.5794256\n",
      "  91267.42979668 135791.54160195  64922.80257299  71775.70235725\n",
      "  60603.91401514 184288.61041917 176286.69585946 158907.7568704\n",
      " 141359.32216439 154611.17928322  58549.58863232  90618.58407898\n",
      " 152885.51163926 168398.05223806  72485.36274538 116064.24350667\n",
      "  80087.80697207 149828.90896189 116806.9595737  130191.48845161\n",
      " 174534.4267033  293584.45948283 146270.83174789 150646.69178015\n",
      "  86107.47782246  69967.20842245  70096.78368772  69033.69170768\n",
      " 120666.75708064  89677.68014063 166824.27091664 125514.76626409\n",
      "  67209.67687465 140930.69427704 118544.30490695 165897.61905907\n",
      " 168655.48652553 147009.66805049 141396.22104147 109086.50634849]\n"
     ]
    }
   ],
   "source": [
    "y_pred = regressor.predict(X_test)\n",
    "print(y_pred)"
   ]
  },
  {
   "cell_type": "code",
   "execution_count": 86,
   "metadata": {},
   "outputs": [
    {
     "name": "stdout",
     "output_type": "stream",
     "text": [
      "[-8.80536598e+02 -6.98169073e+02  5.25845857e-01  8.44390881e-01\n",
      "  1.07574255e-01]\n",
      "-51035.22972404558\n"
     ]
    }
   ],
   "source": [
    "print(regressor.coef_)\n",
    "print(regressor.intercept_)"
   ]
  },
  {
   "cell_type": "code",
   "execution_count": 87,
   "metadata": {},
   "outputs": [
    {
     "data": {
      "text/plain": [
       "0.911269589226882"
      ]
     },
     "execution_count": 87,
     "metadata": {},
     "output_type": "execute_result"
    }
   ],
   "source": [
    "from sklearn.metrics import r2_score\n",
    "r2_score(y_test,y_pred)"
   ]
  },
  {
   "cell_type": "code",
   "execution_count": null,
   "metadata": {},
   "outputs": [],
   "source": []
  }
 ],
 "metadata": {
  "kernelspec": {
   "display_name": "Python 3",
   "language": "python",
   "name": "python3"
  },
  "language_info": {
   "codemirror_mode": {
    "name": "ipython",
    "version": 3
   },
   "file_extension": ".py",
   "mimetype": "text/x-python",
   "name": "python",
   "nbconvert_exporter": "python",
   "pygments_lexer": "ipython3",
   "version": "3.8.5"
  }
 },
 "nbformat": 4,
 "nbformat_minor": 4
}
